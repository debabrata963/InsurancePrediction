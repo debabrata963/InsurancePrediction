{
 "cells": [
  {
   "cell_type": "code",
   "execution_count": 1,
   "metadata": {},
   "outputs": [
    {
     "name": "stdout",
     "output_type": "stream",
     "text": [
      "b'[[4445.156]]'\n"
     ]
    }
   ],
   "source": [
    "import requests\n",
    "import json\n",
    "#28\tmale\t33.000\t3\tno\tsoutheast\n",
    "url=\"http://127.0.0.1:8000/\"\n",
    "data=json.dumps({\"a\":28,\"b\":'male',\"c\":33.00,\"d\":3,'e':'no','f':'southwest'})\n",
    "r=requests.post(url,data)\n",
    "print(r.content)\n",
    "\n"
   ]
  },
  {
   "cell_type": "code",
   "execution_count": null,
   "metadata": {},
   "outputs": [],
   "source": []
  }
 ],
 "metadata": {
  "kernelspec": {
   "display_name": "Python 3",
   "language": "python",
   "name": "python3"
  },
  "language_info": {
   "codemirror_mode": {
    "name": "ipython",
    "version": 3
   },
   "file_extension": ".py",
   "mimetype": "text/x-python",
   "name": "python",
   "nbconvert_exporter": "python",
   "pygments_lexer": "ipython3",
   "version": "3.8.3"
  }
 },
 "nbformat": 4,
 "nbformat_minor": 4
}
